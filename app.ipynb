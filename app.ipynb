{
 "cells": [
  {
   "cell_type": "markdown",
   "id": "93722435",
   "metadata": {},
   "source": [
    "# 📺 Netflix Data Analysis\n",
    "\n",
    "Analyzing Netflix content trends using Python and visualizations."
   ]
  },
  {
   "cell_type": "markdown",
   "id": "cb7bd38c",
   "metadata": {},
   "source": [
    "## 📌 Introduction\n",
    "Netflix has become a global platform with a diverse set of content. This project aims to explore trends such as content release over time, genre distribution, and country-specific insights."
   ]
  },
  {
   "cell_type": "code",
   "execution_count": null,
   "id": "8fd8a76b",
   "metadata": {},
   "outputs": [],
   "source": [
    "import pandas as pd\n",
    "import matplotlib.pyplot as plt\n",
    "import seaborn as sns\n",
    "from wordcloud import WordCloud\n",
    "\n",
    "# Set styles\n",
    "sns.set(style=\"darkgrid\")\n",
    "plt.rcParams['figure.figsize'] = (10, 6)\n",
    "\n",
    "# Load the dataset\n",
    "df = pd.read_csv(\"https://raw.githubusercontent.com/abhijeetburman/Netflix-Data-Analysis/master/netflix_titles.csv\")\n",
    "df.head()"
   ]
  },
  {
   "cell_type": "markdown",
   "id": "11f3cc88",
   "metadata": {},
   "source": [
    "## 🧹 Data Cleaning"
   ]
  },
  {
   "cell_type": "code",
   "execution_count": null,
   "id": "612e41ab",
   "metadata": {},
   "outputs": [],
   "source": [
    "# Convert date_added to datetime\n",
    "df['date_added'] = pd.to_datetime(df['date_added'])\n",
    "\n",
    "# Fill missing values where appropriate\n",
    "df['country'].fillna('Unknown', inplace=True)\n",
    "df['cast'].fillna('Unknown', inplace=True)\n",
    "df['director'].fillna('Unknown', inplace=True)\n",
    "df['rating'].fillna('Unknown', inplace=True)\n",
    "\n",
    "# Check for duplicates\n",
    "df.drop_duplicates(inplace=True)\n",
    "df.isnull().sum()"
   ]
  },
  {
   "cell_type": "markdown",
   "id": "0ff3e915",
   "metadata": {},
   "source": [
    "## 📊 Exploratory Data Analysis (EDA)"
   ]
  },
  {
   "cell_type": "code",
   "execution_count": null,
   "id": "bba85586",
   "metadata": {},
   "outputs": [],
   "source": [
    "# Content added over the years\n",
    "df['year_added'] = df['date_added'].dt.year\n",
    "df_year = df['year_added'].value_counts().sort_index()\n",
    "\n",
    "df_year.plot(kind='bar', color='salmon')\n",
    "plt.title('Content Added Per Year')\n",
    "plt.xlabel('Year')\n",
    "plt.ylabel('Number of Titles')\n",
    "plt.tight_layout()\n",
    "plt.show()"
   ]
  },
  {
   "cell_type": "code",
   "execution_count": null,
   "id": "4cdbcc9e",
   "metadata": {},
   "outputs": [],
   "source": [
    "# Content type distribution\n",
    "sns.countplot(data=df, x='type', palette='Set2')\n",
    "plt.title('Distribution of Content Type (Movie vs TV Show)')\n",
    "plt.show()"
   ]
  },
  {
   "cell_type": "code",
   "execution_count": null,
   "id": "24c75270",
   "metadata": {},
   "outputs": [],
   "source": [
    "# Top countries producing Netflix content\n",
    "top_countries = df['country'].value_counts().head(10)\n",
    "top_countries.plot(kind='bar', color='skyblue')\n",
    "plt.title('Top 10 Countries by Content')\n",
    "plt.ylabel('Number of Titles')\n",
    "plt.xticks(rotation=45)\n",
    "plt.tight_layout()\n",
    "plt.show()"
   ]
  },
  {
   "cell_type": "code",
   "execution_count": null,
   "id": "60d34e0e",
   "metadata": {},
   "outputs": [],
   "source": [
    "# WordCloud for most common genres\n",
    "from collections import Counter\n",
    "genre_series = df['listed_in'].dropna().str.split(', ')\n",
    "genre_list = [genre for sublist in genre_series for genre in sublist]\n",
    "genre_freq = dict(Counter(genre_list))\n",
    "\n",
    "wc = WordCloud(width=1000, height=500, background_color='black').generate_from_frequencies(genre_freq)\n",
    "plt.imshow(wc, interpolation='bilinear')\n",
    "plt.axis('off')\n",
    "plt.title(\"Most Common Genres on Netflix\")\n",
    "plt.show()"
   ]
  },
  {
   "cell_type": "markdown",
   "id": "08186837",
   "metadata": {},
   "source": [
    "## 🧠 Conclusion\n",
    "- Most Netflix content is released post-2015, showing rapid platform growth.\n",
    "- The US dominates content production, followed by India and the UK.\n",
    "- TV Shows and Movies are fairly balanced.\n",
    "- Popular genres include Dramas, International Movies, and Comedies."
   ]
  },
  {
   "cell_type": "markdown",
   "id": "d3ddf6f2",
   "metadata": {},
   "source": [
    "> 🎯 **Next Steps**: Try filtering by genre, analyzing directors, or comparing ratings across countries!"
   ]
  }
 ],
 "metadata": {},
 "nbformat": 4,
 "nbformat_minor": 5
}
